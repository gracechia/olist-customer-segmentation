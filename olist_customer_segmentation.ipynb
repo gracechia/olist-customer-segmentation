{
 "cells": [
  {
   "cell_type": "code",
   "execution_count": 1,
   "metadata": {},
   "outputs": [],
   "source": [
    "# Useful links\n",
    "# https://www.kaggle.com/richardnnamdi/customer-segmentation-ltv#Customer-Segmentation\n",
    "# https://towardsdatascience.com/data-driven-growth-with-python-part-2-customer-segmentation-5c019d150444"
   ]
  },
  {
   "cell_type": "markdown",
   "metadata": {},
   "source": [
    "## Background"
   ]
  },
  {
   "cell_type": "markdown",
   "metadata": {},
   "source": [
    "[Olist](https://olist.com/) is an e-commerce platform that connects merchants and their products to the marketplaces of Brazil. Merchants are able to sell their products through the Olist Store and ship them directly to customers using Olist logistics partners. "
   ]
  },
  {
   "cell_type": "markdown",
   "metadata": {},
   "source": [
    "## Problem statement"
   ]
  },
  {
   "cell_type": "markdown",
   "metadata": {},
   "source": [
    "Instead of analysing the entire customer base as a whole, Olist's marketing team would like to understand the behaviour of each customer segment. A customer segmentation model (RFM framework) will allow Olist to identify users and target them with differentiated and personalised marketing strategies. This will improve user engagement and retention."
   ]
  },
  {
   "cell_type": "markdown",
   "metadata": {},
   "source": [
    "## Dataset"
   ]
  },
  {
   "cell_type": "markdown",
   "metadata": {},
   "source": [
    "We will be using real commercial data provided by Olist and hosted on [Kaggle](https://www.kaggle.com/olistbr/brazilian-ecommerce). The dataset consists of 100k orders from 2016 to 2018 made at multiple marketplaces in Brazil. Its features allows viewing an order from multiple dimensions: from order status, price, payment and freight performance to customer location, product attributes and finally reviews written by customers."
   ]
  },
  {
   "cell_type": "markdown",
   "metadata": {},
   "source": [
    "## Import libraries"
   ]
  },
  {
   "cell_type": "code",
   "execution_count": 2,
   "metadata": {},
   "outputs": [],
   "source": [
    "import pandas as pd\n",
    "import numpy as np\n",
    "import datetime as dt\n",
    "import matplotlib.pyplot as plt\n",
    "import seaborn as sns\n",
    "\n",
    "from sklearn.cluster import KMeans"
   ]
  },
  {
   "cell_type": "markdown",
   "metadata": {},
   "source": [
    "## Import data"
   ]
  },
  {
   "cell_type": "code",
   "execution_count": 3,
   "metadata": {},
   "outputs": [],
   "source": [
    "customers = pd.read_csv('./data/olist_customers_dataset.csv')\n",
    "\n",
    "orders = pd.read_csv('./data/olist_orders_dataset.csv', \n",
    "                     parse_dates=[\n",
    "                         'order_purchase_timestamp', \n",
    "                         'order_approved_at', \n",
    "                         'order_delivered_carrier_date',\n",
    "                         'order_delivered_customer_date',\n",
    "                         'order_estimated_delivery_date'\n",
    "                     ]\n",
    "                    )\n",
    "\n",
    "order_items = pd.read_csv('./data/olist_order_items_dataset.csv', \n",
    "                          parse_dates=[\n",
    "                              'shipping_limit_date'\n",
    "                          ]\n",
    "                         )\n",
    "order_payments = pd.read_csv('./data/olist_order_payments_dataset.csv')"
   ]
  },
  {
   "cell_type": "code",
   "execution_count": 4,
   "metadata": {},
   "outputs": [
    {
     "name": "stdout",
     "output_type": "stream",
     "text": [
      "(99441, 5)\n",
      "(99441, 8)\n",
      "(112650, 7)\n",
      "(103886, 5)\n"
     ]
    }
   ],
   "source": [
    "dfs = [customers, orders, order_items, order_payments]\n",
    "\n",
    "# Print shape of our datasets\n",
    "for df in dfs:\n",
    "    print(df.shape)"
   ]
  },
  {
   "cell_type": "markdown",
   "metadata": {},
   "source": [
    "## Data cleaning"
   ]
  },
  {
   "cell_type": "code",
   "execution_count": 5,
   "metadata": {},
   "outputs": [],
   "source": [
    "# Merge 4 datasets into 1 dataframe\n",
    "df1 = order_items.merge(order_payments, on='order_id')\n",
    "df2 = df1.merge(orders, on='order_id')\n",
    "df = df2.merge(customers, on='customer_id')"
   ]
  },
  {
   "cell_type": "code",
   "execution_count": 6,
   "metadata": {},
   "outputs": [
    {
     "data": {
      "text/html": [
       "<div>\n",
       "<style scoped>\n",
       "    .dataframe tbody tr th:only-of-type {\n",
       "        vertical-align: middle;\n",
       "    }\n",
       "\n",
       "    .dataframe tbody tr th {\n",
       "        vertical-align: top;\n",
       "    }\n",
       "\n",
       "    .dataframe thead th {\n",
       "        text-align: right;\n",
       "    }\n",
       "</style>\n",
       "<table border=\"1\" class=\"dataframe\">\n",
       "  <thead>\n",
       "    <tr style=\"text-align: right;\">\n",
       "      <th></th>\n",
       "      <th>order_id</th>\n",
       "      <th>order_item_id</th>\n",
       "      <th>product_id</th>\n",
       "      <th>seller_id</th>\n",
       "      <th>shipping_limit_date</th>\n",
       "      <th>price</th>\n",
       "      <th>freight_value</th>\n",
       "      <th>payment_sequential</th>\n",
       "      <th>payment_type</th>\n",
       "      <th>payment_installments</th>\n",
       "      <th>...</th>\n",
       "      <th>order_status</th>\n",
       "      <th>order_purchase_timestamp</th>\n",
       "      <th>order_approved_at</th>\n",
       "      <th>order_delivered_carrier_date</th>\n",
       "      <th>order_delivered_customer_date</th>\n",
       "      <th>order_estimated_delivery_date</th>\n",
       "      <th>customer_unique_id</th>\n",
       "      <th>customer_zip_code_prefix</th>\n",
       "      <th>customer_city</th>\n",
       "      <th>customer_state</th>\n",
       "    </tr>\n",
       "  </thead>\n",
       "  <tbody>\n",
       "    <tr>\n",
       "      <th>0</th>\n",
       "      <td>00010242fe8c5a6d1ba2dd792cb16214</td>\n",
       "      <td>1</td>\n",
       "      <td>4244733e06e7ecb4970a6e2683c13e61</td>\n",
       "      <td>48436dade18ac8b2bce089ec2a041202</td>\n",
       "      <td>2017-09-19 09:45:35</td>\n",
       "      <td>58.90</td>\n",
       "      <td>13.29</td>\n",
       "      <td>1</td>\n",
       "      <td>credit_card</td>\n",
       "      <td>2</td>\n",
       "      <td>...</td>\n",
       "      <td>delivered</td>\n",
       "      <td>2017-09-13 08:59:02</td>\n",
       "      <td>2017-09-13 09:45:35</td>\n",
       "      <td>2017-09-19 18:34:16</td>\n",
       "      <td>2017-09-20 23:43:48</td>\n",
       "      <td>2017-09-29</td>\n",
       "      <td>871766c5855e863f6eccc05f988b23cb</td>\n",
       "      <td>28013</td>\n",
       "      <td>campos dos goytacazes</td>\n",
       "      <td>RJ</td>\n",
       "    </tr>\n",
       "    <tr>\n",
       "      <th>1</th>\n",
       "      <td>00018f77f2f0320c557190d7a144bdd3</td>\n",
       "      <td>1</td>\n",
       "      <td>e5f2d52b802189ee658865ca93d83a8f</td>\n",
       "      <td>dd7ddc04e1b6c2c614352b383efe2d36</td>\n",
       "      <td>2017-05-03 11:05:13</td>\n",
       "      <td>239.90</td>\n",
       "      <td>19.93</td>\n",
       "      <td>1</td>\n",
       "      <td>credit_card</td>\n",
       "      <td>3</td>\n",
       "      <td>...</td>\n",
       "      <td>delivered</td>\n",
       "      <td>2017-04-26 10:53:06</td>\n",
       "      <td>2017-04-26 11:05:13</td>\n",
       "      <td>2017-05-04 14:35:00</td>\n",
       "      <td>2017-05-12 16:04:24</td>\n",
       "      <td>2017-05-15</td>\n",
       "      <td>eb28e67c4c0b83846050ddfb8a35d051</td>\n",
       "      <td>15775</td>\n",
       "      <td>santa fe do sul</td>\n",
       "      <td>SP</td>\n",
       "    </tr>\n",
       "    <tr>\n",
       "      <th>2</th>\n",
       "      <td>000229ec398224ef6ca0657da4fc703e</td>\n",
       "      <td>1</td>\n",
       "      <td>c777355d18b72b67abbeef9df44fd0fd</td>\n",
       "      <td>5b51032eddd242adc84c38acab88f23d</td>\n",
       "      <td>2018-01-18 14:48:30</td>\n",
       "      <td>199.00</td>\n",
       "      <td>17.87</td>\n",
       "      <td>1</td>\n",
       "      <td>credit_card</td>\n",
       "      <td>5</td>\n",
       "      <td>...</td>\n",
       "      <td>delivered</td>\n",
       "      <td>2018-01-14 14:33:31</td>\n",
       "      <td>2018-01-14 14:48:30</td>\n",
       "      <td>2018-01-16 12:36:48</td>\n",
       "      <td>2018-01-22 13:19:16</td>\n",
       "      <td>2018-02-05</td>\n",
       "      <td>3818d81c6709e39d06b2738a8d3a2474</td>\n",
       "      <td>35661</td>\n",
       "      <td>para de minas</td>\n",
       "      <td>MG</td>\n",
       "    </tr>\n",
       "    <tr>\n",
       "      <th>3</th>\n",
       "      <td>00024acbcdf0a6daa1e931b038114c75</td>\n",
       "      <td>1</td>\n",
       "      <td>7634da152a4610f1595efa32f14722fc</td>\n",
       "      <td>9d7a1d34a5052409006425275ba1c2b4</td>\n",
       "      <td>2018-08-15 10:10:18</td>\n",
       "      <td>12.99</td>\n",
       "      <td>12.79</td>\n",
       "      <td>1</td>\n",
       "      <td>credit_card</td>\n",
       "      <td>2</td>\n",
       "      <td>...</td>\n",
       "      <td>delivered</td>\n",
       "      <td>2018-08-08 10:00:35</td>\n",
       "      <td>2018-08-08 10:10:18</td>\n",
       "      <td>2018-08-10 13:28:00</td>\n",
       "      <td>2018-08-14 13:32:39</td>\n",
       "      <td>2018-08-20</td>\n",
       "      <td>af861d436cfc08b2c2ddefd0ba074622</td>\n",
       "      <td>12952</td>\n",
       "      <td>atibaia</td>\n",
       "      <td>SP</td>\n",
       "    </tr>\n",
       "    <tr>\n",
       "      <th>4</th>\n",
       "      <td>00042b26cf59d7ce69dfabb4e55b4fd9</td>\n",
       "      <td>1</td>\n",
       "      <td>ac6c3623068f30de03045865e4e10089</td>\n",
       "      <td>df560393f3a51e74553ab94004ba5c87</td>\n",
       "      <td>2017-02-13 13:57:51</td>\n",
       "      <td>199.90</td>\n",
       "      <td>18.14</td>\n",
       "      <td>1</td>\n",
       "      <td>credit_card</td>\n",
       "      <td>3</td>\n",
       "      <td>...</td>\n",
       "      <td>delivered</td>\n",
       "      <td>2017-02-04 13:57:51</td>\n",
       "      <td>2017-02-04 14:10:13</td>\n",
       "      <td>2017-02-16 09:46:09</td>\n",
       "      <td>2017-03-01 16:42:31</td>\n",
       "      <td>2017-03-17</td>\n",
       "      <td>64b576fb70d441e8f1b2d7d446e483c5</td>\n",
       "      <td>13226</td>\n",
       "      <td>varzea paulista</td>\n",
       "      <td>SP</td>\n",
       "    </tr>\n",
       "  </tbody>\n",
       "</table>\n",
       "<p>5 rows × 22 columns</p>\n",
       "</div>"
      ],
      "text/plain": [
       "                           order_id  order_item_id  \\\n",
       "0  00010242fe8c5a6d1ba2dd792cb16214              1   \n",
       "1  00018f77f2f0320c557190d7a144bdd3              1   \n",
       "2  000229ec398224ef6ca0657da4fc703e              1   \n",
       "3  00024acbcdf0a6daa1e931b038114c75              1   \n",
       "4  00042b26cf59d7ce69dfabb4e55b4fd9              1   \n",
       "\n",
       "                         product_id                         seller_id  \\\n",
       "0  4244733e06e7ecb4970a6e2683c13e61  48436dade18ac8b2bce089ec2a041202   \n",
       "1  e5f2d52b802189ee658865ca93d83a8f  dd7ddc04e1b6c2c614352b383efe2d36   \n",
       "2  c777355d18b72b67abbeef9df44fd0fd  5b51032eddd242adc84c38acab88f23d   \n",
       "3  7634da152a4610f1595efa32f14722fc  9d7a1d34a5052409006425275ba1c2b4   \n",
       "4  ac6c3623068f30de03045865e4e10089  df560393f3a51e74553ab94004ba5c87   \n",
       "\n",
       "  shipping_limit_date   price  freight_value  payment_sequential payment_type  \\\n",
       "0 2017-09-19 09:45:35   58.90          13.29                   1  credit_card   \n",
       "1 2017-05-03 11:05:13  239.90          19.93                   1  credit_card   \n",
       "2 2018-01-18 14:48:30  199.00          17.87                   1  credit_card   \n",
       "3 2018-08-15 10:10:18   12.99          12.79                   1  credit_card   \n",
       "4 2017-02-13 13:57:51  199.90          18.14                   1  credit_card   \n",
       "\n",
       "   payment_installments  ...  order_status order_purchase_timestamp  \\\n",
       "0                     2  ...     delivered      2017-09-13 08:59:02   \n",
       "1                     3  ...     delivered      2017-04-26 10:53:06   \n",
       "2                     5  ...     delivered      2018-01-14 14:33:31   \n",
       "3                     2  ...     delivered      2018-08-08 10:00:35   \n",
       "4                     3  ...     delivered      2017-02-04 13:57:51   \n",
       "\n",
       "    order_approved_at order_delivered_carrier_date  \\\n",
       "0 2017-09-13 09:45:35          2017-09-19 18:34:16   \n",
       "1 2017-04-26 11:05:13          2017-05-04 14:35:00   \n",
       "2 2018-01-14 14:48:30          2018-01-16 12:36:48   \n",
       "3 2018-08-08 10:10:18          2018-08-10 13:28:00   \n",
       "4 2017-02-04 14:10:13          2017-02-16 09:46:09   \n",
       "\n",
       "  order_delivered_customer_date order_estimated_delivery_date  \\\n",
       "0           2017-09-20 23:43:48                    2017-09-29   \n",
       "1           2017-05-12 16:04:24                    2017-05-15   \n",
       "2           2018-01-22 13:19:16                    2018-02-05   \n",
       "3           2018-08-14 13:32:39                    2018-08-20   \n",
       "4           2017-03-01 16:42:31                    2017-03-17   \n",
       "\n",
       "                 customer_unique_id customer_zip_code_prefix  \\\n",
       "0  871766c5855e863f6eccc05f988b23cb                    28013   \n",
       "1  eb28e67c4c0b83846050ddfb8a35d051                    15775   \n",
       "2  3818d81c6709e39d06b2738a8d3a2474                    35661   \n",
       "3  af861d436cfc08b2c2ddefd0ba074622                    12952   \n",
       "4  64b576fb70d441e8f1b2d7d446e483c5                    13226   \n",
       "\n",
       "           customer_city  customer_state  \n",
       "0  campos dos goytacazes              RJ  \n",
       "1        santa fe do sul              SP  \n",
       "2          para de minas              MG  \n",
       "3                atibaia              SP  \n",
       "4        varzea paulista              SP  \n",
       "\n",
       "[5 rows x 22 columns]"
      ]
     },
     "execution_count": 6,
     "metadata": {},
     "output_type": "execute_result"
    }
   ],
   "source": [
    "df.head()"
   ]
  },
  {
   "cell_type": "code",
   "execution_count": 7,
   "metadata": {},
   "outputs": [
    {
     "name": "stdout",
     "output_type": "stream",
     "text": [
      "<class 'pandas.core.frame.DataFrame'>\n",
      "Int64Index: 117601 entries, 0 to 117600\n",
      "Data columns (total 22 columns):\n",
      " #   Column                         Non-Null Count   Dtype         \n",
      "---  ------                         --------------   -----         \n",
      " 0   order_id                       117601 non-null  object        \n",
      " 1   order_item_id                  117601 non-null  int64         \n",
      " 2   product_id                     117601 non-null  object        \n",
      " 3   seller_id                      117601 non-null  object        \n",
      " 4   shipping_limit_date            117601 non-null  datetime64[ns]\n",
      " 5   price                          117601 non-null  float64       \n",
      " 6   freight_value                  117601 non-null  float64       \n",
      " 7   payment_sequential             117601 non-null  int64         \n",
      " 8   payment_type                   117601 non-null  object        \n",
      " 9   payment_installments           117601 non-null  int64         \n",
      " 10  payment_value                  117601 non-null  float64       \n",
      " 11  customer_id                    117601 non-null  object        \n",
      " 12  order_status                   117601 non-null  object        \n",
      " 13  order_purchase_timestamp       117601 non-null  datetime64[ns]\n",
      " 14  order_approved_at              117586 non-null  datetime64[ns]\n",
      " 15  order_delivered_carrier_date   116356 non-null  datetime64[ns]\n",
      " 16  order_delivered_customer_date  115034 non-null  datetime64[ns]\n",
      " 17  order_estimated_delivery_date  117601 non-null  datetime64[ns]\n",
      " 18  customer_unique_id             117601 non-null  object        \n",
      " 19  customer_zip_code_prefix       117601 non-null  int64         \n",
      " 20  customer_city                  117601 non-null  object        \n",
      " 21  customer_state                 117601 non-null  object        \n",
      "dtypes: datetime64[ns](6), float64(3), int64(4), object(9)\n",
      "memory usage: 20.6+ MB\n"
     ]
    }
   ],
   "source": [
    "df.info()"
   ]
  },
  {
   "cell_type": "code",
   "execution_count": 8,
   "metadata": {
    "scrolled": true
   },
   "outputs": [
    {
     "data": {
      "text/plain": [
       "order_id                            0\n",
       "order_item_id                       0\n",
       "product_id                          0\n",
       "seller_id                           0\n",
       "shipping_limit_date                 0\n",
       "price                               0\n",
       "freight_value                       0\n",
       "payment_sequential                  0\n",
       "payment_type                        0\n",
       "payment_installments                0\n",
       "payment_value                       0\n",
       "customer_id                         0\n",
       "order_status                        0\n",
       "order_purchase_timestamp            0\n",
       "order_approved_at                  15\n",
       "order_delivered_carrier_date     1245\n",
       "order_delivered_customer_date    2567\n",
       "order_estimated_delivery_date       0\n",
       "customer_unique_id                  0\n",
       "customer_zip_code_prefix            0\n",
       "customer_city                       0\n",
       "customer_state                      0\n",
       "dtype: int64"
      ]
     },
     "execution_count": 8,
     "metadata": {},
     "output_type": "execute_result"
    }
   ],
   "source": [
    "# Check for null values\n",
    "df.isnull().sum()"
   ]
  },
  {
   "cell_type": "markdown",
   "metadata": {},
   "source": [
    "There are quite a few null values in `order_approved_at`, `order_delivered_carrier_date` and `order_delivered_customer_date`. Let's investigate further and decide on how we should treat these null values."
   ]
  },
  {
   "cell_type": "code",
   "execution_count": 9,
   "metadata": {},
   "outputs": [
    {
     "data": {
      "text/plain": [
       "shipped        1244\n",
       "canceled        559\n",
       "processing      375\n",
       "invoiced        371\n",
       "delivered         8\n",
       "unavailable       7\n",
       "approved          3\n",
       "Name: order_status, dtype: int64"
      ]
     },
     "execution_count": 9,
     "metadata": {},
     "output_type": "execute_result"
    }
   ],
   "source": [
    "df[df['order_delivered_customer_date'].isnull()]['order_status'].value_counts()"
   ]
  },
  {
   "cell_type": "markdown",
   "metadata": {},
   "source": [
    "After some investigation, we noticed that the null values in `order_delivered_customer_date` are a result of deliveries that were not `delivered`. The `order_status` was in fact `shipped`, `canceled` etc. As we would like to build a customer segmentation model that analyses on orders that were delivered, we will only keep these orders that have fulfilled this order status."
   ]
  },
  {
   "cell_type": "code",
   "execution_count": 10,
   "metadata": {},
   "outputs": [],
   "source": [
    "# We will only keep orders that were delivered\n",
    "df = df[df['order_status']=='delivered']"
   ]
  },
  {
   "cell_type": "code",
   "execution_count": 11,
   "metadata": {},
   "outputs": [
    {
     "data": {
      "text/plain": [
       "order_id                          0\n",
       "order_item_id                     0\n",
       "product_id                        0\n",
       "seller_id                         0\n",
       "shipping_limit_date               0\n",
       "price                             0\n",
       "freight_value                     0\n",
       "payment_sequential                0\n",
       "payment_type                      0\n",
       "payment_installments              0\n",
       "payment_value                     0\n",
       "customer_id                       0\n",
       "order_status                      0\n",
       "order_purchase_timestamp          0\n",
       "order_approved_at                15\n",
       "order_delivered_carrier_date      2\n",
       "order_delivered_customer_date     8\n",
       "order_estimated_delivery_date     0\n",
       "customer_unique_id                0\n",
       "customer_zip_code_prefix          0\n",
       "customer_city                     0\n",
       "customer_state                    0\n",
       "dtype: int64"
      ]
     },
     "execution_count": 11,
     "metadata": {},
     "output_type": "execute_result"
    }
   ],
   "source": [
    "df.isnull().sum()"
   ]
  },
  {
   "cell_type": "markdown",
   "metadata": {},
   "source": [
    "There are now much fewer null values than before. As the remaining null values may have been a result of a system lapse or human error, we can assume that the occurrence of missing values is random (Missing Completely at Random)."
   ]
  },
  {
   "cell_type": "markdown",
   "metadata": {},
   "source": [
    "## Methodology"
   ]
  },
  {
   "cell_type": "markdown",
   "metadata": {},
   "source": [
    "We will use the RFM framework to build our customer segmentation model. RFM stands for Recency, Frequency, Monetary Value. This would allow us to create the following segments:\n",
    "- Low Value: Customers who are less active than others, not very frequent buyer/visitor and generates very low - zero maybe negative revenue.\n",
    "- Mid Value: In the middle of everything. Often using our platform (but not as much as our High Values), fairly frequent and generates moderate revenue.\n",
    "- High Value: The group we don’t want to lose. High Revenue, Frequency and low Inactivity.\n"
   ]
  },
  {
   "cell_type": "markdown",
   "metadata": {},
   "source": [
    "## Recency"
   ]
  },
  {
   "cell_type": "markdown",
   "metadata": {},
   "source": [
    "Recency can be calculated by finding the number of days since customers' last purchase. After obtaining the number of inactive days, we can apply K-means clustering to assign each customer a recency score."
   ]
  },
  {
   "cell_type": "code",
   "execution_count": 12,
   "metadata": {},
   "outputs": [],
   "source": [
    "# Create a dataframe to store customers uuid and recency scores\n",
    "recency = df[['customer_unique_id', 'order_purchase_timestamp']]"
   ]
  },
  {
   "cell_type": "code",
   "execution_count": 13,
   "metadata": {},
   "outputs": [],
   "source": [
    "# Since a customer may have more than one order, we will obtain his/her last purchase timestamp\n",
    "recency = recency.groupby('customer_unique_id')['order_purchase_timestamp'].max().reset_index()\n",
    "recency.columns = ['customer_unique_id', 'last_purchase_timestamp']\n",
    "\n",
    "# Calculate the number of days since customers' last purchase\n",
    "recency['inactive_days'] = (recency['last_purchase_timestamp'].max() - recency['last_purchase_timestamp']).dt.days\n",
    "recency.drop(columns='last_purchase_timestamp', inplace=True)"
   ]
  },
  {
   "cell_type": "code",
   "execution_count": 14,
   "metadata": {},
   "outputs": [
    {
     "data": {
      "image/png": "[encoded data removed]",
      "text/plain": [
       "<Figure size 432x288 with 1 Axes>"
      ]
     },
     "metadata": {
      "needs_background": "light"
     },
     "output_type": "display_data"
    }
   ],
   "source": [
    "sns.distplot(recency['inactive_days'], bins=50)\n",
    "plt.xlabel('Inactive days')\n",
    "plt.ylabel('Density')\n",
    "plt.title(\"Distribution of customers' inactive days\");"
   ]
  },
  {
   "cell_type": "markdown",
   "metadata": {},
   "source": [
    "We will use K-means clustering to assign each customer with a recency score. But first, we will use the Elbow method to identify the optimal number of clusters here."
   ]
  },
  {
   "cell_type": "code",
   "execution_count": 15,
   "metadata": {},
   "outputs": [],
   "source": [
    "inertia = {}\n",
    "\n",
    "for k in range(1,10):\n",
    "    km = KMeans(n_clusters=k)\n",
    "    km = km.fit(recency[['inactive_days']])\n",
    "    inertia[k] = km.inertia_"
   ]
  },
  {
   "cell_type": "code",
   "execution_count": 16,
   "metadata": {},
   "outputs": [
    {
     "data": {
      "image/png": "[encoded data removed]",
      "text/plain": [
       "<Figure size 576x360 with 1 Axes>"
      ]
     },
     "metadata": {
      "needs_background": "light"
     },
     "output_type": "display_data"
    }
   ],
   "source": [
    "plt.figure(figsize=(8,5))\n",
    "plt.plot(list(inertia.keys()), list(inertia.values()))\n",
    "plt.xlabel('Number of clusters (k)')\n",
    "plt.ylabel('Inertia');"
   ]
  },
  {
   "cell_type": "markdown",
   "metadata": {},
   "source": [
    "Given that the elbow on the arm is the optimal k, the optimal number of clusters for Recency is 3. However, as we would see later on, the optimal k for Frequency and Monetary is 4. Hence, we will go with 4 clusters for consistency."
   ]
  },
  {
   "cell_type": "code",
   "execution_count": 17,
   "metadata": {},
   "outputs": [],
   "source": [
    "km = KMeans(n_clusters=4)\n",
    "km.fit(recency[['inactive_days']])\n",
    "recency['recency_cluster'] = km.labels_"
   ]
  },
  {
   "cell_type": "code",
   "execution_count": 18,
   "metadata": {},
   "outputs": [
    {
     "data": {
      "text/html": [
       "<div>\n",
       "<style scoped>\n",
       "    .dataframe tbody tr th:only-of-type {\n",
       "        vertical-align: middle;\n",
       "    }\n",
       "\n",
       "    .dataframe tbody tr th {\n",
       "        vertical-align: top;\n",
       "    }\n",
       "\n",
       "    .dataframe thead th {\n",
       "        text-align: right;\n",
       "    }\n",
       "</style>\n",
       "<table border=\"1\" class=\"dataframe\">\n",
       "  <thead>\n",
       "    <tr style=\"text-align: right;\">\n",
       "      <th></th>\n",
       "      <th>count</th>\n",
       "      <th>mean</th>\n",
       "      <th>std</th>\n",
       "      <th>min</th>\n",
       "      <th>25%</th>\n",
       "      <th>50%</th>\n",
       "      <th>75%</th>\n",
       "      <th>max</th>\n",
       "    </tr>\n",
       "    <tr>\n",
       "      <th>recency_cluster</th>\n",
       "      <th></th>\n",
       "      <th></th>\n",
       "      <th></th>\n",
       "      <th></th>\n",
       "      <th></th>\n",
       "      <th></th>\n",
       "      <th></th>\n",
       "      <th></th>\n",
       "    </tr>\n",
       "  </thead>\n",
       "  <tbody>\n",
       "    <tr>\n",
       "      <th>3</th>\n",
       "      <td>25348.0</td>\n",
       "      <td>61.224712</td>\n",
       "      <td>35.810246</td>\n",
       "      <td>0.0</td>\n",
       "      <td>28.0</td>\n",
       "      <td>61.0</td>\n",
       "      <td>94.0</td>\n",
       "      <td>121.0</td>\n",
       "    </tr>\n",
       "    <tr>\n",
       "      <th>0</th>\n",
       "      <td>27129.0</td>\n",
       "      <td>182.690368</td>\n",
       "      <td>35.207229</td>\n",
       "      <td>122.0</td>\n",
       "      <td>153.0</td>\n",
       "      <td>182.0</td>\n",
       "      <td>213.0</td>\n",
       "      <td>247.0</td>\n",
       "    </tr>\n",
       "    <tr>\n",
       "      <th>2</th>\n",
       "      <td>24270.0</td>\n",
       "      <td>313.020766</td>\n",
       "      <td>43.167006</td>\n",
       "      <td>248.0</td>\n",
       "      <td>276.0</td>\n",
       "      <td>306.0</td>\n",
       "      <td>350.0</td>\n",
       "      <td>397.0</td>\n",
       "    </tr>\n",
       "    <tr>\n",
       "      <th>1</th>\n",
       "      <td>16610.0</td>\n",
       "      <td>482.513666</td>\n",
       "      <td>58.840875</td>\n",
       "      <td>398.0</td>\n",
       "      <td>435.0</td>\n",
       "      <td>474.0</td>\n",
       "      <td>525.0</td>\n",
       "      <td>694.0</td>\n",
       "    </tr>\n",
       "  </tbody>\n",
       "</table>\n",
       "</div>"
      ],
      "text/plain": [
       "                   count        mean        std    min    25%    50%    75%  \\\n",
       "recency_cluster                                                               \n",
       "3                25348.0   61.224712  35.810246    0.0   28.0   61.0   94.0   \n",
       "0                27129.0  182.690368  35.207229  122.0  153.0  182.0  213.0   \n",
       "2                24270.0  313.020766  43.167006  248.0  276.0  306.0  350.0   \n",
       "1                16610.0  482.513666  58.840875  398.0  435.0  474.0  525.0   \n",
       "\n",
       "                   max  \n",
       "recency_cluster         \n",
       "3                121.0  \n",
       "0                247.0  \n",
       "2                397.0  \n",
       "1                694.0  "
      ]
     },
     "execution_count": 18,
     "metadata": {},
     "output_type": "execute_result"
    }
   ],
   "source": [
    "recency.groupby('recency_cluster')['inactive_days'].describe().sort_values(by='mean')"
   ]
  },
  {
   "cell_type": "markdown",
   "metadata": {},
   "source": []
  },
  {
   "cell_type": "markdown",
   "metadata": {},
   "source": [
    "## Frequency"
   ]
  },
  {
   "cell_type": "markdown",
   "metadata": {},
   "source": [
    "We will count the number of unique orders made by each customer to obtain their purchase frequencies."
   ]
  },
  {
   "cell_type": "code",
   "execution_count": 19,
   "metadata": {},
   "outputs": [],
   "source": [
    "# Create a dataframe to store customers uuid and frequency scores\n",
    "frequency = df[['customer_unique_id', 'order_id']]"
   ]
  },
  {
   "cell_type": "code",
   "execution_count": 20,
   "metadata": {},
   "outputs": [],
   "source": [
    "# Count the number of orders for each customer\n",
    "frequency = frequency.groupby('customer_unique_id')['order_id'].count().reset_index()\n",
    "frequency.columns = ['customer_unique_id', 'number_of_orders']"
   ]
  },
  {
   "cell_type": "code",
   "execution_count": 21,
   "metadata": {},
   "outputs": [
    {
     "data": {
      "image/png": "[encoded data removed]",
      "text/plain": [
       "<Figure size 432x288 with 1 Axes>"
      ]
     },
     "metadata": {
      "needs_background": "light"
     },
     "output_type": "display_data"
    }
   ],
   "source": [
    "frequency['number_of_orders'].plot.hist(bins=100)\n",
    "plt.xlim(0,10)\n",
    "plt.xlabel('Number of orders')\n",
    "plt.ylabel('Denisty')\n",
    "plt.title('Distribution of the number of orders per customer');"
   ]
  },
  {
   "cell_type": "code",
   "execution_count": 22,
   "metadata": {},
   "outputs": [],
   "source": [
    "inertia = {}\n",
    "\n",
    "for k in range(1,10):\n",
    "    km = KMeans(n_clusters=k)\n",
    "    km = km.fit(frequency[['number_of_orders']])\n",
    "    inertia[k] = km.inertia_"
   ]
  },
  {
   "cell_type": "code",
   "execution_count": 23,
   "metadata": {
    "scrolled": true
   },
   "outputs": [
    {
     "data": {
      "image/png": "[encoded data removed]",
      "text/plain": [
       "<Figure size 576x360 with 1 Axes>"
      ]
     },
     "metadata": {
      "needs_background": "light"
     },
     "output_type": "display_data"
    }
   ],
   "source": [
    "plt.figure(figsize=(8,5))\n",
    "plt.plot(list(inertia.keys()), list(inertia.values()))\n",
    "plt.xlabel('Number of clusters (k)')\n",
    "plt.ylabel('Inertia');"
   ]
  },
  {
   "cell_type": "code",
   "execution_count": 24,
   "metadata": {},
   "outputs": [],
   "source": [
    "km = KMeans(n_clusters=4)\n",
    "km.fit(frequency[['number_of_orders']])\n",
    "frequency['frequency_cluster'] = km.labels_"
   ]
  },
  {
   "cell_type": "code",
   "execution_count": 25,
   "metadata": {},
   "outputs": [
    {
     "data": {
      "text/html": [
       "<div>\n",
       "<style scoped>\n",
       "    .dataframe tbody tr th:only-of-type {\n",
       "        vertical-align: middle;\n",
       "    }\n",
       "\n",
       "    .dataframe tbody tr th {\n",
       "        vertical-align: top;\n",
       "    }\n",
       "\n",
       "    .dataframe thead th {\n",
       "        text-align: right;\n",
       "    }\n",
       "</style>\n",
       "<table border=\"1\" class=\"dataframe\">\n",
       "  <thead>\n",
       "    <tr style=\"text-align: right;\">\n",
       "      <th></th>\n",
       "      <th>customer_unique_id</th>\n",
       "      <th>number_of_orders</th>\n",
       "      <th>frequency_cluster</th>\n",
       "    </tr>\n",
       "  </thead>\n",
       "  <tbody>\n",
       "    <tr>\n",
       "      <th>0</th>\n",
       "      <td>0000366f3b9a7992bf8c76cfdf3221e2</td>\n",
       "      <td>1</td>\n",
       "      <td>0</td>\n",
       "    </tr>\n",
       "    <tr>\n",
       "      <th>1</th>\n",
       "      <td>0000b849f77a49e4a4ce2b2a4ca5be3f</td>\n",
       "      <td>1</td>\n",
       "      <td>0</td>\n",
       "    </tr>\n",
       "    <tr>\n",
       "      <th>2</th>\n",
       "      <td>0000f46a3911fa3c0805444483337064</td>\n",
       "      <td>1</td>\n",
       "      <td>0</td>\n",
       "    </tr>\n",
       "    <tr>\n",
       "      <th>3</th>\n",
       "      <td>0000f6ccb0745a6a4b88665a16c9f078</td>\n",
       "      <td>1</td>\n",
       "      <td>0</td>\n",
       "    </tr>\n",
       "    <tr>\n",
       "      <th>4</th>\n",
       "      <td>0004aac84e0df4da2b147fca70cf8255</td>\n",
       "      <td>1</td>\n",
       "      <td>0</td>\n",
       "    </tr>\n",
       "  </tbody>\n",
       "</table>\n",
       "</div>"
      ],
      "text/plain": [
       "                 customer_unique_id  number_of_orders  frequency_cluster\n",
       "0  0000366f3b9a7992bf8c76cfdf3221e2                 1                  0\n",
       "1  0000b849f77a49e4a4ce2b2a4ca5be3f                 1                  0\n",
       "2  0000f46a3911fa3c0805444483337064                 1                  0\n",
       "3  0000f6ccb0745a6a4b88665a16c9f078                 1                  0\n",
       "4  0004aac84e0df4da2b147fca70cf8255                 1                  0"
      ]
     },
     "execution_count": 25,
     "metadata": {},
     "output_type": "execute_result"
    }
   ],
   "source": [
    "frequency.head()"
   ]
  },
  {
   "cell_type": "code",
   "execution_count": 26,
   "metadata": {},
   "outputs": [
    {
     "data": {
      "text/html": [
       "<div>\n",
       "<style scoped>\n",
       "    .dataframe tbody tr th:only-of-type {\n",
       "        vertical-align: middle;\n",
       "    }\n",
       "\n",
       "    .dataframe tbody tr th {\n",
       "        vertical-align: top;\n",
       "    }\n",
       "\n",
       "    .dataframe thead th {\n",
       "        text-align: right;\n",
       "    }\n",
       "</style>\n",
       "<table border=\"1\" class=\"dataframe\">\n",
       "  <thead>\n",
       "    <tr style=\"text-align: right;\">\n",
       "      <th></th>\n",
       "      <th>count</th>\n",
       "      <th>mean</th>\n",
       "      <th>std</th>\n",
       "      <th>min</th>\n",
       "      <th>25%</th>\n",
       "      <th>50%</th>\n",
       "      <th>75%</th>\n",
       "      <th>max</th>\n",
       "    </tr>\n",
       "    <tr>\n",
       "      <th>frequency_cluster</th>\n",
       "      <th></th>\n",
       "      <th></th>\n",
       "      <th></th>\n",
       "      <th></th>\n",
       "      <th></th>\n",
       "      <th></th>\n",
       "      <th></th>\n",
       "      <th></th>\n",
       "    </tr>\n",
       "  </thead>\n",
       "  <tbody>\n",
       "    <tr>\n",
       "      <th>0</th>\n",
       "      <td>79337.0</td>\n",
       "      <td>1.000000</td>\n",
       "      <td>0.000000</td>\n",
       "      <td>1.0</td>\n",
       "      <td>1.0</td>\n",
       "      <td>1.0</td>\n",
       "      <td>1.0</td>\n",
       "      <td>1.0</td>\n",
       "    </tr>\n",
       "    <tr>\n",
       "      <th>2</th>\n",
       "      <td>12325.0</td>\n",
       "      <td>2.154970</td>\n",
       "      <td>0.361890</td>\n",
       "      <td>2.0</td>\n",
       "      <td>2.0</td>\n",
       "      <td>2.0</td>\n",
       "      <td>2.0</td>\n",
       "      <td>3.0</td>\n",
       "    </tr>\n",
       "    <tr>\n",
       "      <th>3</th>\n",
       "      <td>1595.0</td>\n",
       "      <td>4.823197</td>\n",
       "      <td>1.138507</td>\n",
       "      <td>4.0</td>\n",
       "      <td>4.0</td>\n",
       "      <td>4.0</td>\n",
       "      <td>6.0</td>\n",
       "      <td>9.0</td>\n",
       "    </tr>\n",
       "    <tr>\n",
       "      <th>1</th>\n",
       "      <td>100.0</td>\n",
       "      <td>14.450000</td>\n",
       "      <td>7.942184</td>\n",
       "      <td>10.0</td>\n",
       "      <td>11.0</td>\n",
       "      <td>12.0</td>\n",
       "      <td>15.0</td>\n",
       "      <td>75.0</td>\n",
       "    </tr>\n",
       "  </tbody>\n",
       "</table>\n",
       "</div>"
      ],
      "text/plain": [
       "                     count       mean       std   min   25%   50%   75%   max\n",
       "frequency_cluster                                                            \n",
       "0                  79337.0   1.000000  0.000000   1.0   1.0   1.0   1.0   1.0\n",
       "2                  12325.0   2.154970  0.361890   2.0   2.0   2.0   2.0   3.0\n",
       "3                   1595.0   4.823197  1.138507   4.0   4.0   4.0   6.0   9.0\n",
       "1                    100.0  14.450000  7.942184  10.0  11.0  12.0  15.0  75.0"
      ]
     },
     "execution_count": 26,
     "metadata": {},
     "output_type": "execute_result"
    }
   ],
   "source": [
    "frequency.groupby('frequency_cluster')['number_of_orders'].describe().sort_values(by='mean')"
   ]
  },
  {
   "cell_type": "markdown",
   "metadata": {},
   "source": [
    "Cluster 2 are the high frequency customers."
   ]
  },
  {
   "cell_type": "markdown",
   "metadata": {},
   "source": [
    "## Monetary"
   ]
  },
  {
   "cell_type": "code",
   "execution_count": 27,
   "metadata": {},
   "outputs": [],
   "source": [
    "# Create a dataframe to store customer uuid and monetary scores\n",
    "monetary = df[['customer_unique_id', 'payment_value']]"
   ]
  },
  {
   "cell_type": "code",
   "execution_count": 28,
   "metadata": {},
   "outputs": [],
   "source": [
    "# Total payment value per customer\n",
    "monetary = monetary.groupby('customer_unique_id')['payment_value'].sum().reset_index()"
   ]
  },
  {
   "cell_type": "code",
   "execution_count": 29,
   "metadata": {},
   "outputs": [
    {
     "data": {
      "text/html": [
       "<div>\n",
       "<style scoped>\n",
       "    .dataframe tbody tr th:only-of-type {\n",
       "        vertical-align: middle;\n",
       "    }\n",
       "\n",
       "    .dataframe tbody tr th {\n",
       "        vertical-align: top;\n",
       "    }\n",
       "\n",
       "    .dataframe thead th {\n",
       "        text-align: right;\n",
       "    }\n",
       "</style>\n",
       "<table border=\"1\" class=\"dataframe\">\n",
       "  <thead>\n",
       "    <tr style=\"text-align: right;\">\n",
       "      <th></th>\n",
       "      <th>customer_unique_id</th>\n",
       "      <th>payment_value</th>\n",
       "    </tr>\n",
       "  </thead>\n",
       "  <tbody>\n",
       "    <tr>\n",
       "      <th>0</th>\n",
       "      <td>0000366f3b9a7992bf8c76cfdf3221e2</td>\n",
       "      <td>141.90</td>\n",
       "    </tr>\n",
       "    <tr>\n",
       "      <th>1</th>\n",
       "      <td>0000b849f77a49e4a4ce2b2a4ca5be3f</td>\n",
       "      <td>27.19</td>\n",
       "    </tr>\n",
       "    <tr>\n",
       "      <th>2</th>\n",
       "      <td>0000f46a3911fa3c0805444483337064</td>\n",
       "      <td>86.22</td>\n",
       "    </tr>\n",
       "    <tr>\n",
       "      <th>3</th>\n",
       "      <td>0000f6ccb0745a6a4b88665a16c9f078</td>\n",
       "      <td>43.62</td>\n",
       "    </tr>\n",
       "    <tr>\n",
       "      <th>4</th>\n",
       "      <td>0004aac84e0df4da2b147fca70cf8255</td>\n",
       "      <td>196.89</td>\n",
       "    </tr>\n",
       "  </tbody>\n",
       "</table>\n",
       "</div>"
      ],
      "text/plain": [
       "                 customer_unique_id  payment_value\n",
       "0  0000366f3b9a7992bf8c76cfdf3221e2         141.90\n",
       "1  0000b849f77a49e4a4ce2b2a4ca5be3f          27.19\n",
       "2  0000f46a3911fa3c0805444483337064          86.22\n",
       "3  0000f6ccb0745a6a4b88665a16c9f078          43.62\n",
       "4  0004aac84e0df4da2b147fca70cf8255         196.89"
      ]
     },
     "execution_count": 29,
     "metadata": {},
     "output_type": "execute_result"
    }
   ],
   "source": [
    "monetary.head()"
   ]
  },
  {
   "cell_type": "code",
   "execution_count": 30,
   "metadata": {},
   "outputs": [
    {
     "data": {
      "text/plain": [
       "Text(0.5, 1.0, 'Distribution of payment value per customer')"
      ]
     },
     "execution_count": 30,
     "metadata": {},
     "output_type": "execute_result"
    },
    {
     "data": {
      "image/png": "[encoded data removed]",
      "text/plain": [
       "<Figure size 432x288 with 1 Axes>"
      ]
     },
     "metadata": {
      "needs_background": "light"
     },
     "output_type": "display_data"
    }
   ],
   "source": [
    "sns.distplot(monetary['payment_value'], hist=False)\n",
    "plt.xlabel('Payment value')\n",
    "plt.ylabel('Density')\n",
    "plt.title('Distribution of payment value per customer')"
   ]
  },
  {
   "cell_type": "code",
   "execution_count": 31,
   "metadata": {},
   "outputs": [],
   "source": [
    "inertia = {}\n",
    "\n",
    "for k in range(1,10):\n",
    "    km = KMeans(n_clusters=k)\n",
    "    km = km.fit(monetary[['payment_value']])\n",
    "    inertia[k] = km.inertia_"
   ]
  },
  {
   "cell_type": "code",
   "execution_count": 32,
   "metadata": {},
   "outputs": [
    {
     "data": {
      "image/png": "[encoded data removed]",
      "text/plain": [
       "<Figure size 576x360 with 1 Axes>"
      ]
     },
     "metadata": {
      "needs_background": "light"
     },
     "output_type": "display_data"
    }
   ],
   "source": [
    "plt.figure(figsize=(8,5))\n",
    "plt.plot(list(inertia.keys()), list(inertia.values()))\n",
    "plt.xlabel('k')\n",
    "plt.ylabel('Inertia');"
   ]
  },
  {
   "cell_type": "code",
   "execution_count": 33,
   "metadata": {},
   "outputs": [],
   "source": [
    "km = KMeans(n_clusters=4)\n",
    "km.fit(monetary[['payment_value']])\n",
    "monetary['monetary_cluster'] = km.labels_"
   ]
  },
  {
   "cell_type": "code",
   "execution_count": 34,
   "metadata": {},
   "outputs": [
    {
     "data": {
      "text/html": [
       "<div>\n",
       "<style scoped>\n",
       "    .dataframe tbody tr th:only-of-type {\n",
       "        vertical-align: middle;\n",
       "    }\n",
       "\n",
       "    .dataframe tbody tr th {\n",
       "        vertical-align: top;\n",
       "    }\n",
       "\n",
       "    .dataframe thead th {\n",
       "        text-align: right;\n",
       "    }\n",
       "</style>\n",
       "<table border=\"1\" class=\"dataframe\">\n",
       "  <thead>\n",
       "    <tr style=\"text-align: right;\">\n",
       "      <th></th>\n",
       "      <th>count</th>\n",
       "      <th>mean</th>\n",
       "      <th>std</th>\n",
       "      <th>min</th>\n",
       "      <th>25%</th>\n",
       "      <th>50%</th>\n",
       "      <th>75%</th>\n",
       "      <th>max</th>\n",
       "    </tr>\n",
       "    <tr>\n",
       "      <th>monetary_cluster</th>\n",
       "      <th></th>\n",
       "      <th></th>\n",
       "      <th></th>\n",
       "      <th></th>\n",
       "      <th></th>\n",
       "      <th></th>\n",
       "      <th></th>\n",
       "      <th></th>\n",
       "    </tr>\n",
       "  </thead>\n",
       "  <tbody>\n",
       "    <tr>\n",
       "      <th>0</th>\n",
       "      <td>92136.0</td>\n",
       "      <td>173.312896</td>\n",
       "      <td>192.762616</td>\n",
       "      <td>9.59</td>\n",
       "      <td>63.270</td>\n",
       "      <td>111.43</td>\n",
       "      <td>196.000</td>\n",
       "      <td>1437.15</td>\n",
       "    </tr>\n",
       "    <tr>\n",
       "      <th>1</th>\n",
       "      <td>1200.0</td>\n",
       "      <td>2695.381433</td>\n",
       "      <td>1669.877521</td>\n",
       "      <td>1437.64</td>\n",
       "      <td>1681.345</td>\n",
       "      <td>2067.45</td>\n",
       "      <td>2999.410</td>\n",
       "      <td>12490.88</td>\n",
       "    </tr>\n",
       "    <tr>\n",
       "      <th>3</th>\n",
       "      <td>20.0</td>\n",
       "      <td>23201.656000</td>\n",
       "      <td>9512.025508</td>\n",
       "      <td>14196.28</td>\n",
       "      <td>16880.720</td>\n",
       "      <td>19258.32</td>\n",
       "      <td>28226.475</td>\n",
       "      <td>45256.00</td>\n",
       "    </tr>\n",
       "    <tr>\n",
       "      <th>2</th>\n",
       "      <td>1.0</td>\n",
       "      <td>109312.640000</td>\n",
       "      <td>NaN</td>\n",
       "      <td>109312.64</td>\n",
       "      <td>109312.640</td>\n",
       "      <td>109312.64</td>\n",
       "      <td>109312.640</td>\n",
       "      <td>109312.64</td>\n",
       "    </tr>\n",
       "  </tbody>\n",
       "</table>\n",
       "</div>"
      ],
      "text/plain": [
       "                    count           mean          std        min         25%  \\\n",
       "monetary_cluster                                                               \n",
       "0                 92136.0     173.312896   192.762616       9.59      63.270   \n",
       "1                  1200.0    2695.381433  1669.877521    1437.64    1681.345   \n",
       "3                    20.0   23201.656000  9512.025508   14196.28   16880.720   \n",
       "2                     1.0  109312.640000          NaN  109312.64  109312.640   \n",
       "\n",
       "                        50%         75%        max  \n",
       "monetary_cluster                                    \n",
       "0                    111.43     196.000    1437.15  \n",
       "1                   2067.45    2999.410   12490.88  \n",
       "3                  19258.32   28226.475   45256.00  \n",
       "2                 109312.64  109312.640  109312.64  "
      ]
     },
     "execution_count": 34,
     "metadata": {},
     "output_type": "execute_result"
    }
   ],
   "source": [
    "monetary.groupby('monetary_cluster')['payment_value'].describe().sort_values(by='mean')"
   ]
  },
  {
   "cell_type": "markdown",
   "metadata": {},
   "source": [
    "## Overall score"
   ]
  },
  {
   "cell_type": "code",
   "execution_count": null,
   "metadata": {},
   "outputs": [],
   "source": []
  }
 ],
 "metadata": {
  "kernelspec": {
   "display_name": "Python 3",
   "language": "python",
   "name": "python3"
  },
  "language_info": {
   "codemirror_mode": {
    "name": "ipython",
    "version": 3
   },
   "file_extension": ".py",
   "mimetype": "text/x-python",
   "name": "python",
   "nbconvert_exporter": "python",
   "pygments_lexer": "ipython3",
   "version": "3.7.7"
  }
 },
 "nbformat": 4,
 "nbformat_minor": 4
}
